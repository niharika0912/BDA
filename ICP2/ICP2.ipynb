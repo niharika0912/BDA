{
  "nbformat": 4,
  "nbformat_minor": 0,
  "metadata": {
    "colab": {
      "provenance": []
    },
    "kernelspec": {
      "name": "python3",
      "display_name": "Python 3"
    },
    "language_info": {
      "name": "python"
    }
  },
  "cells": [
    {
      "cell_type": "code",
      "execution_count": 1,
      "metadata": {
        "colab": {
          "base_uri": "https://localhost:8080/"
        },
        "id": "tdMDAwjgr1Qk",
        "outputId": "42941202-0dd5-42bd-a407-fd83c074998a"
      },
      "outputs": [
        {
          "output_type": "stream",
          "name": "stdout",
          "text": [
            "Mounted at /content/drive\n"
          ]
        }
      ],
      "source": [
        "# Mount Google Drive\n",
        "from google.colab import drive\n",
        "drive.mount('/content/drive')"
      ]
    },
    {
      "cell_type": "markdown",
      "source": [
        "[1]\n",
        "->difference between Counter.count and self._count:-\n",
        "Counter.count is a class variable. The variable is shared by all copies of the Counter class. When it's changed, the update affects every copy of the class.\n",
        "self._count is an instance variable.Each copy of the Counter class has its own version of this variable. Changing it only affects that one copy, not the others.\n",
        "\n",
        "\n",
        "->Output of a.get_counts() and b.get_counts():-\n",
        "After running the code:\n",
        "  a.increment()  # a._count becomes 1, Counter.count becomes 1\n",
        "  a.increment()  # a._count becomes 2, Counter.count becomes 2\n",
        "  b.increment()  # b._count becomes 1, Counter.count becomes 3\n",
        "  \n",
        "Output of a.get_counts():  \n",
        "  Instance count: 2, Class count: 3\n",
        "  - self._count for a is 2.\n",
        "  - Counter.count is 3 (shared across instances).\n",
        "\n",
        "Output of b.get_counts():  \n",
        "  Instance count: 1, Class count: 3\n",
        "  - self._count for b is 1.\n",
        "  - Counter.count is still 3 (shared across instances).\n",
        "\n",
        "->increment method affects both the class and instance variables in the following way:-\n",
        "When a.increment() is called:\n",
        "self._count for the specific instance is incremented up by 1.\n",
        "The shared Counter.count for all instances of Counter also goes up by 1.\n",
        "The same happens for b.increment(), but it only increments self._count for b while still incrementing Counter.count.\n",
        "\n"
      ],
      "metadata": {
        "id": "qGNfafRSt8Sf"
      }
    },
    {
      "cell_type": "code",
      "source": [
        "#Bug- The function sum_all is written to accept only one argument(args),but when calling sum_all,multiple arguments are getting accessed.\n",
        "#Fix- Using *args syntax accepts any number of arguments.\n",
        "def sum_all(*args):\n",
        "    return sum(args)\n",
        "\n",
        "print(\"Sum of 1, 2, 3 is:\", sum_all(1, 2, 3))\n",
        "print(\"Sum of 4, 5, 6, 7 is:\", sum_all(4, 5, 6, 7))\n"
      ],
      "metadata": {
        "colab": {
          "base_uri": "https://localhost:8080/"
        },
        "id": "UaWehQSJy2D8",
        "outputId": "f38cf3de-d1ed-4be8-ff2d-7c45ac292f31"
      },
      "execution_count": 3,
      "outputs": [
        {
          "output_type": "stream",
          "name": "stdout",
          "text": [
            "Sum of 1, 2, 3 is: 6\n",
            "Sum of 4, 5, 6, 7 is: 22\n"
          ]
        }
      ]
    },
    {
      "cell_type": "markdown",
      "source": [],
      "metadata": {
        "id": "QRLNH_UqyrSN"
      }
    },
    {
      "cell_type": "code",
      "source": [
        "def first_word(words):\n",
        "    # Sorting the list alphabetically to accomplish the result\n",
        "    sorted_words = sorted(words)\n",
        "    # Returns the first word from the sorted list\n",
        "    return sorted_words[0]\n",
        "\n",
        "# Example\n",
        "students = ['Mary', 'Zelda', 'Jimmy', 'Jack', 'Bartholomew', 'Gertrude']\n",
        "print(first_word(students))\n",
        "\n"
      ],
      "metadata": {
        "colab": {
          "base_uri": "https://localhost:8080/"
        },
        "id": "xM009QZ50dQD",
        "outputId": "d0a89d8e-a632-4da3-ec10-5971a93faedd"
      },
      "execution_count": 9,
      "outputs": [
        {
          "output_type": "stream",
          "name": "stdout",
          "text": [
            "Bartholomew\n"
          ]
        }
      ]
    },
    {
      "cell_type": "code",
      "source": [
        "class Employee:\n",
        "    # Class variable to count the no. of employees\n",
        "    emp_count = 0\n",
        "    total_salary = 0\n",
        "\n",
        "    def __init__(self, name, family, salary, department):\n",
        "        # Instance variables\n",
        "        self.name = name\n",
        "        self.family = family\n",
        "        self.salary = salary\n",
        "        self.department = department\n",
        "        # Increment the employee count\n",
        "        Employee.emp_count += 1\n",
        "        Employee.total_salary += salary\n",
        "\n",
        "    @staticmethod\n",
        "    def average_salary():\n",
        "        # Calculate the average salary\n",
        "        if Employee.emp_count > 0:\n",
        "            return Employee.total_salary / Employee.emp_count\n",
        "        else:\n",
        "            return 0\n",
        "\n",
        "# Subclass FulltimeEmployee inherits from Employee\n",
        "class FtEmployee(Employee):\n",
        "    def __init__(self, name, family, salary, department):\n",
        "        # Call the constructor of the parent class\n",
        "        super().__init__(name, family, salary, department)\n",
        "\n",
        "# Creating instances of Employee and FulltimeEmployee\n",
        "emp1 = Employee(\"John\", \"Smith\", 50000, \"Engineering\")\n",
        "emp2 = Employee(\"Jane\", \"Doe\", 60000, \"Marketing\")\n",
        "fulltime_emp1 = FtEmployee(\"Alice\", \"Johnson\", 70000, \"Finance\")\n",
        "\n",
        "# Calling the member functions\n",
        "print(f\"Total Employees: {Employee.emp_count}\")\n",
        "print(f\"Average Salary: {Employee.average_salary()}\")\n"
      ],
      "metadata": {
        "colab": {
          "base_uri": "https://localhost:8080/"
        },
        "id": "8cftoyJC27XF",
        "outputId": "e496d915-0794-4e42-f183-0cd913548d77"
      },
      "execution_count": 11,
      "outputs": [
        {
          "output_type": "stream",
          "name": "stdout",
          "text": [
            "Total Employees: 3\n",
            "Average Salary: 60000.0\n"
          ]
        }
      ]
    }
  ]
}