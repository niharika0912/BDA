{
  "nbformat": 4,
  "nbformat_minor": 0,
  "metadata": {
    "colab": {
      "provenance": []
    },
    "kernelspec": {
      "name": "python3",
      "display_name": "Python 3"
    },
    "language_info": {
      "name": "python"
    }
  },
  "cells": [
    {
      "cell_type": "code",
      "execution_count": 2,
      "metadata": {
        "id": "9XcX00y5s0oo",
        "colab": {
          "base_uri": "https://localhost:8080/"
        },
        "outputId": "cd8e82b3-5fb5-4d24-ff5b-de22eacc3822"
      },
      "outputs": [
        {
          "output_type": "stream",
          "name": "stdout",
          "text": [
            "Mounted at /content/drive\n"
          ]
        }
      ],
      "source": [
        "# Mount Google Drive\n",
        "from google.colab import drive\n",
        "drive.mount('/content/drive')\n"
      ]
    },
    {
      "cell_type": "code",
      "source": [
        "# Take input from the user\n",
        "input_str = input(\"Enter a string: \")\n",
        "# Delete at least 2 characters\n",
        "modified_str = input_str[:-2]\n",
        "# Reverse the modified string\n",
        "reversed_str = modified_str[::-1]\n",
        "\n",
        "# Print the reversed string\n",
        "print(\"Result:\", reversed_str)"
      ],
      "metadata": {
        "colab": {
          "base_uri": "https://localhost:8080/"
        },
        "id": "Tscchx8yxh4v",
        "outputId": "efa9ec1c-5ba0-498b-9fc0-0d363b8236b7"
      },
      "execution_count": 3,
      "outputs": [
        {
          "output_type": "stream",
          "name": "stdout",
          "text": [
            "Enter a string: python\n",
            "Result: htyp\n"
          ]
        }
      ]
    },
    {
      "cell_type": "code",
      "source": [
        "# Take input from the user\n",
        "num1 = float(input(\"Enter the first number: \"))\n",
        "num2 = float(input(\"Enter the second number: \"))\n",
        "\n",
        "# Perform arithmetic operations\n",
        "add = num1 + num2\n",
        "sub = num1 - num2\n",
        "mul = num1 * num2\n",
        "\n",
        "# Ensure non-zero division\n",
        "if num2 != 0:\n",
        "    div = num1 / num2\n",
        "else:\n",
        "    div = \"Cannot divide by zero\"\n",
        "\n",
        "# Print the results\n",
        "print(\"Addition:\", add)\n",
        "print(\"Subtraction:\", sub)\n",
        "print(\"Multiplication:\", mul)\n",
        "print(\"Division:\", div)"
      ],
      "metadata": {
        "colab": {
          "base_uri": "https://localhost:8080/"
        },
        "id": "fNq5_HqWyIWG",
        "outputId": "e7cf15e6-a2e6-4aae-9341-5602450ee03e"
      },
      "execution_count": 4,
      "outputs": [
        {
          "output_type": "stream",
          "name": "stdout",
          "text": [
            "Enter the first number: 3\n",
            "Enter the second number: 4\n",
            "Addition: 7.0\n",
            "Subtraction: -1.0\n",
            "Multiplication: 12.0\n",
            "Division: 0.75\n"
          ]
        }
      ]
    },
    {
      "cell_type": "code",
      "source": [
        "# Take input from the user\n",
        "input_sentence = input(\"Enter a sentence: \")\n",
        "\n",
        "# Replace 'python' with 'pythons'\n",
        "output_sentence = input_sentence.replace('python', 'pythons')\n",
        "\n",
        "# Print the modified sentence\n",
        "print(\"Modified sentence:\", output_sentence)"
      ],
      "metadata": {
        "colab": {
          "base_uri": "https://localhost:8080/"
        },
        "id": "xzX7kDKayvZ8",
        "outputId": "5a35ab08-a56a-471a-b776-f3fb25134dbc"
      },
      "execution_count": 5,
      "outputs": [
        {
          "output_type": "stream",
          "name": "stdout",
          "text": [
            "Enter a sentence: i love playing with python\n",
            "Modified sentence: i love playing with pythons\n"
          ]
        }
      ]
    },
    {
      "cell_type": "code",
      "source": [
        "# Take input from the user\n",
        "cs = float(input(\"Enter the class score: \"))\n",
        "\n",
        "# Determine the letter grade based on the score\n",
        "if cs >= 90:\n",
        "    letter_grade = 'A'\n",
        "elif 80 <= cs < 90:\n",
        "    letter_grade = 'B'\n",
        "elif 70 <= cs < 80:\n",
        "    letter_grade = 'C'\n",
        "elif 60 <= cs < 70:\n",
        "    letter_grade = 'D'\n",
        "else:\n",
        "    letter_grade = 'F'\n",
        "\n",
        "# Print the letter grade\n",
        "print(\"Letter Grade:\", letter_grade)\n"
      ],
      "metadata": {
        "colab": {
          "base_uri": "https://localhost:8080/"
        },
        "id": "TJh3ASTty4bW",
        "outputId": "8a93dd37-d54a-4d98-c86f-bdc6e52f01ad"
      },
      "execution_count": 6,
      "outputs": [
        {
          "output_type": "stream",
          "name": "stdout",
          "text": [
            "Enter the class score: 90\n",
            "Letter Grade: A\n"
          ]
        }
      ]
    },
    {
      "cell_type": "code",
      "source": [
        "# Input list\n",
        "x = [23, 'Python', 23.98]\n",
        "\n",
        "# Output the original list\n",
        "print(x)\n",
        "\n",
        "# Create a new list containing the types of each element in x\n",
        "types_list = [type(item) for item in x]\n",
        "\n",
        "# Output the types list\n",
        "print(types_list)\n"
      ],
      "metadata": {
        "colab": {
          "base_uri": "https://localhost:8080/"
        },
        "id": "QLDMrXNn0cnY",
        "outputId": "f3d7a5ec-0623-42a0-a8f6-5c9231c7bbe9"
      },
      "execution_count": 7,
      "outputs": [
        {
          "output_type": "stream",
          "name": "stdout",
          "text": [
            "[23, 'Python', 23.98]\n",
            "[<class 'int'>, <class 'str'>, <class 'float'>]\n"
          ]
        }
      ]
    },
    {
      "cell_type": "code",
      "source": [
        "# Given sets and list\n",
        "IT_companies = {'Facebook', 'Google', 'Microsoft', 'Apple', 'IBM', 'Oracle', 'Amazon'}\n",
        "A = {19, 22, 24, 20, 25, 26}\n",
        "B = {19, 22, 20, 25, 26, 24, 28, 27}\n",
        "age = [22, 19, 24, 25, 26, 24, 25, 24]\n",
        "\n",
        "# 1. Find the length of the set IT_companies\n",
        "length_IT_companies = len(IT_companies)\n",
        "print(\"Length of IT_companies:\", length_IT_companies)\n",
        "\n",
        "# 2. Add 'Twitter' to IT_companies\n",
        "IT_companies.add('Twitter')\n",
        "print(\"IT_companies after adding Twitter:\", IT_companies)\n",
        "\n",
        "# 3. Insert multiple IT companies at once to the set IT_companies\n",
        "IT_companies.update(['Snapchat', 'TikTok', 'Spotify'])\n",
        "print(\"IT_companies after adding multiple companies:\", IT_companies)\n",
        "\n",
        "# 4. Remove one of the companies from the set IT_companies\n",
        "IT_companies.remove('Oracle')  # Example of removal\n",
        "print(\"IT_companies after removing a company:\", IT_companies)\n",
        "\n",
        "# 5. Difference between remove and discard:\n",
        "# - remove() will raise a KeyError if the element is not present in the set.- discard() will not raise an error if the element is not present in the set.\n",
        "\n",
        "# 6. Join A and B\n",
        "A_union_B = A.union(B)\n",
        "print(\"A union B:\", A_union_B)\n",
        "\n",
        "# 7. Find A intersection B\n",
        "A_intersection_B = A.intersection(B)\n",
        "print(\"A intersection B:\", A_intersection_B)\n",
        "\n",
        "# 8. Is A subset of B\n",
        "is_A_subset_B = A.issubset(B)\n",
        "print(\"Is A a subset of B:\", is_A_subset_B)\n",
        "\n",
        "# 9. Are A and B disjoint sets\n",
        "are_A_B_disjoint = A.isdisjoint(B)\n",
        "print(\"Are A and B disjoint:\", are_A_B_disjoint)\n",
        "\n",
        "# 10. Join A with B and B with A\n",
        "A_union_B_again = A.union(B)\n",
        "B_union_A = B.union(A)\n",
        "print(\"A union B (again):\", A_union_B_again)\n",
        "print(\"B union A:\", B_union_A)\n",
        "\n",
        "# 11. What is the symmetric difference between A and B\n",
        "A_symmetric_difference_B = A.symmetric_difference(B)\n",
        "print(\"Symmetric difference between A and B:\", A_symmetric_difference_B)\n",
        "\n",
        "# 12. Delete the sets completely\n",
        "del IT_companies\n",
        "del A\n",
        "del B\n",
        "\n",
        "# 13. Convert the ages to a set and compare the length of the list and the set.\n",
        "age_set = set(age)\n",
        "print(\"Length of age list:\", len(age))\n",
        "print(\"Length of age set:\", len(age_set))\n"
      ],
      "metadata": {
        "colab": {
          "base_uri": "https://localhost:8080/"
        },
        "id": "MB6e6ntc1-f1",
        "outputId": "150e95e9-83ac-49e5-b4e7-8f84cc1d7856"
      },
      "execution_count": 8,
      "outputs": [
        {
          "output_type": "stream",
          "name": "stdout",
          "text": [
            "Length of IT_companies: 7\n",
            "IT_companies after adding Twitter: {'Google', 'IBM', 'Amazon', 'Twitter', 'Oracle', 'Facebook', 'Microsoft', 'Apple'}\n",
            "IT_companies after adding multiple companies: {'Snapchat', 'Oracle', 'Amazon', 'Facebook', 'IBM', 'TikTok', 'Twitter', 'Google', 'Apple', 'Spotify', 'Microsoft'}\n",
            "IT_companies after removing a company: {'Snapchat', 'Amazon', 'Facebook', 'IBM', 'TikTok', 'Twitter', 'Google', 'Apple', 'Spotify', 'Microsoft'}\n",
            "A union B: {19, 20, 22, 24, 25, 26, 27, 28}\n",
            "A intersection B: {19, 20, 22, 24, 25, 26}\n",
            "Is A a subset of B: True\n",
            "Are A and B disjoint: False\n",
            "A union B (again): {19, 20, 22, 24, 25, 26, 27, 28}\n",
            "B union A: {19, 20, 22, 24, 25, 26, 27, 28}\n",
            "Symmetric difference between A and B: {27, 28}\n",
            "Length of age list: 8\n",
            "Length of age set: 5\n"
          ]
        }
      ]
    }
  ]
}